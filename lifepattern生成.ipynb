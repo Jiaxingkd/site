{
 "cells": [
  {
   "cell_type": "code",
   "execution_count": 4,
   "metadata": {},
   "outputs": [],
   "source": [
    "import pandas as pd\n",
    "import numpy as np\n",
    "import geopandas as gpd\n",
    "import transbigdata as tbd\n",
    "import warnings\n",
    "warnings.filterwarnings('ignore')"
   ]
  },
  {
   "cell_type": "code",
   "execution_count": 5,
   "metadata": {},
   "outputs": [
    {
     "data": {
      "text/plain": [
       "0          100000\n",
       "45          99999\n",
       "94          99998\n",
       "133         99997\n",
       "193         99996\n",
       "            ...  \n",
       "4432785         5\n",
       "4432816         4\n",
       "4432839         3\n",
       "4432875         2\n",
       "4432914         1\n",
       "Name: reindex, Length: 100000, dtype: int64"
      ]
     },
     "execution_count": 5,
     "metadata": {},
     "output_type": "execute_result"
    }
   ],
   "source": [
    "stay = pd.read_csv(r'staymove/sh_2311_lifepattern_activity.csv')\n",
    "stay = stay.sort_values(by = 'rank')\n",
    "stay['reindex'].drop_duplicates()\n",
    "\n",
    "move = pd.read_csv(r'staymove/sh_2311_lifepattern_move.csv')\n",
    "move.loc[move['etype'].isnull(),'etype']='O_0'\n",
    "move = move.sort_values(by = 'rank')\n",
    "move['reindex'].drop_duplicates()\n",
    "\n",
    "\n",
    "# 重命名move DataFrame的列，以便与stay DataFrame的列匹配\n",
    "move = move.rename(columns={'shour': 'hour'})\n",
    "\n",
    "# 创建一个新的列'type'，将'stype'和'etype'合并\n",
    "move['type'] = move['stype'] + '.' + move['etype']\n",
    "\n",
    "# 从move DataFrame中选择必要的列\n",
    "move_lifepattern = move[['reindex', 'type', 'hour', 'count']]\n",
    "\n",
    "# 定义一个函数以扩展小时范围\n",
    "def expand_hours(row):\n",
    "    if row['shour'] <= row['ehour']:\n",
    "        return list(range(row['shour'], row['ehour'] + 1))\n",
    "    else:\n",
    "        return list(range(row['shour'], 24)) + list(range(0, row['ehour'] + 1))\n",
    "\n",
    "# 应用expand_hours函数并扩展DataFrame\n",
    "stay_tag = stay[['type', 'shour', 'ehour']].drop_duplicates()\n",
    "expanded_hours = stay_tag.apply(expand_hours, axis=1)\n",
    "\n",
    "df_expanded = stay_tag.loc[stay_tag.index.repeat(expanded_hours.str.len())]\n",
    "\n",
    "df_expanded['hour'] = [hour for sublist in expanded_hours for hour in sublist]\n",
    "\n",
    "# 重置最终DataFrame的索引\n",
    "df_expanded.reset_index(drop=True, inplace=True)\n",
    "\n",
    "# 合并stay和df_expanded DataFrame，按'reindex'，'type'和'hour'分组并计算总数\n",
    "stay_lifepattern = pd.merge(stay, df_expanded).groupby(['reindex', 'type', 'hour'])['count'].sum().reset_index()\n",
    "\n",
    "# 修改'type'列的值，将其合并为类型对\n",
    "stay_lifepattern['type'] = stay_lifepattern['type'] + '.' + stay_lifepattern['type']\n",
    "\n",
    "# 合并move_lifepattern和stay_lifepattern\n",
    "lifepattern = pd.concat([move_lifepattern, stay_lifepattern])\n",
    "lifepattern['otype'] = lifepattern['type'].apply(lambda x: x.split('.')[0])\n",
    "lifepattern['dtype'] = lifepattern['type'].apply(lambda x: x.split('.')[1])"
   ]
  },
  {
   "cell_type": "code",
   "execution_count": 68,
   "metadata": {},
   "outputs": [
    {
     "name": "stdout",
     "output_type": "stream",
     "text": [
      "INFO: Pandarallel will run on 10 workers.\n",
      "INFO: Pandarallel will use standard multiprocessing data transfer (pipe) to transfer data between the main process and workers.\n"
     ]
    }
   ],
   "source": [
    "from pandarallel import pandarallel\n",
    "pandarallel.initialize(progress_bar=True)\n",
    "\n",
    "def generate_seq(lifepattern_i,days=100,seq_type='matrix',starttime = '2020-01-01'):\n",
    "    #TODO 加入工作日和非工作日区分\n",
    "    def getprob(f):\n",
    "        f = f[['dtype','count']]\n",
    "        f['prob'] = f['count']/f['count'].sum()\n",
    "        return f[['dtype','prob']].values\n",
    "    lifepattern_dict = lifepattern_i.groupby(['hour','otype']).apply(lambda x:getprob(x)).to_dict()\n",
    "    lifepattern_dict_hour = lifepattern_i.groupby(['hour']).apply(lambda x:getprob(x)).to_dict()\n",
    "    initstate = lifepattern_i.groupby(['otype'])['count'].sum().index[0]\n",
    "    # 马尔科夫链\n",
    "    currenthour = 0\n",
    "    currentstate = initstate\n",
    "    allstates = [currentstate]\n",
    "    repeattimes = 0\n",
    "    for i in range(24*days-1):\n",
    "        if (currenthour,currentstate) in lifepattern_dict:\n",
    "            p = lifepattern_dict[(currenthour,currentstate)]\n",
    "            nextstate = np.random.choice(p[:,0],size = 1,p=list(p[:,1]))[0]\n",
    "        else:\n",
    "            #此处为随机选择\n",
    "            if currenthour in lifepattern_dict_hour:\n",
    "                p = lifepattern_dict_hour[currenthour]\n",
    "                nextstate = np.random.choice(p[:,0],size = 1,p=list(p[:,1]))[0]\n",
    "            else:\n",
    "                nextstate = initstate\n",
    "\n",
    "        currenthour+=1\n",
    "        if currenthour== 24:\n",
    "            currenthour = 0\n",
    "\n",
    "        #重复过多次则剔除\n",
    "        #print(nextstate,currentstate,repeattimes)\n",
    "        if nextstate == currentstate:\n",
    "            \n",
    "            repeattimes += 1\n",
    "            if repeattimes == 24:\n",
    "                nextstate = initstate\n",
    "                repeattimes = 0\n",
    "        else:\n",
    "            repeattimes = 0\n",
    "        currentstate = nextstate\n",
    "\n",
    "        allstates.append(currentstate)\n",
    "        #print([currenthour,currentstate])\n",
    "    if seq_type == 'matrix':\n",
    "\n",
    "        return np.array(allstates).reshape(-1,24).tolist()\n",
    "    elif seq_type == 'df':\n",
    "        allstates = pd.DataFrame(allstates,columns=['type'])\n",
    "        allstates['hour'] = range(len(allstates))\n",
    "        allstates['time'] = allstates['hour'].apply(lambda x:pd.Timestamp(starttime)+pd.Timedelta(hours = x))+np.random.uniform(0*60,60*60,len(allstates)).astype(int)*pd.Timedelta('1 second')\n",
    "        allstates = allstates[(allstates['type'].shift())!=allstates['type']]\n",
    "        return allstates[['time','type']]\n",
    "\n"
   ]
  },
  {
   "cell_type": "code",
   "execution_count": 69,
   "metadata": {},
   "outputs": [],
   "source": [
    "uid = 1\t\n",
    "allstates = generate_seq(lifepattern[lifepattern['reindex'] == uid],days = 100,seq_type = 'df')\n"
   ]
  },
  {
   "cell_type": "code",
   "execution_count": null,
   "metadata": {},
   "outputs": [],
   "source": [
    "\n",
    "generated_sequences_long_shaped = list(lifepattern.groupby(['reindex']).parallel_apply(lambda lifepattern_i:generate_seq(lifepattern_i,days = 100)))\n",
    "\n",
    "#存储为pkl文件\n",
    "import pickle\n",
    "with open('generated_sequences.pkl', 'wb') as f:\n",
    "    pickle.dump(generated_sequences_long_shaped, f)\n"
   ]
  },
  {
   "cell_type": "code",
   "execution_count": 308,
   "metadata": {},
   "outputs": [
    {
     "data": {
      "text/plain": [
       "100000"
      ]
     },
     "execution_count": 308,
     "metadata": {},
     "output_type": "execute_result"
    }
   ],
   "source": [
    "len(generated_sequences_long_shaped)\n",
    "for i in range(20):\n",
    "    generated_sequences_long_shaped[i*5000:(i+1)*5000]"
   ]
  },
  {
   "cell_type": "code",
   "execution_count": 310,
   "metadata": {},
   "outputs": [
    {
     "data": {
      "text/plain": [
       "5000"
      ]
     },
     "execution_count": 310,
     "metadata": {},
     "output_type": "execute_result"
    }
   ],
   "source": [
    "len(a)"
   ]
  },
  {
   "cell_type": "code",
   "execution_count": 314,
   "metadata": {},
   "outputs": [],
   "source": [
    "i=19\n",
    "for i in range(20):\n",
    "    a = generated_sequences_long_shaped[i*5000:(i+1)*5000]\n",
    "    #存储为pkl文件\n",
    "    import pickle\n",
    "    with open(f'seq/generated_sequences_{i}.pkl', 'wb') as f:\n",
    "        pickle.dump(a, f)"
   ]
  }
 ],
 "metadata": {
  "kernelspec": {
   "display_name": "py38_native",
   "language": "python",
   "name": "python3"
  },
  "language_info": {
   "codemirror_mode": {
    "name": "ipython",
    "version": 3
   },
   "file_extension": ".py",
   "mimetype": "text/x-python",
   "name": "python",
   "nbconvert_exporter": "python",
   "pygments_lexer": "ipython3",
   "version": "3.8.13"
  }
 },
 "nbformat": 4,
 "nbformat_minor": 2
}
